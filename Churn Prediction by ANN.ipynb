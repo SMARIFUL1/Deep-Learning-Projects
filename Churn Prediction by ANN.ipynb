{
 "cells": [
  {
   "cell_type": "code",
   "execution_count": 66,
   "id": "e890ea77",
   "metadata": {},
   "outputs": [],
   "source": [
    "import numpy as np\n",
    "import pandas as pd\n",
    "import matplotlib.pyplot as plt\n",
    "import tensorflow as tf"
   ]
  },
  {
   "cell_type": "code",
   "execution_count": 67,
   "id": "3f53154f",
   "metadata": {},
   "outputs": [],
   "source": [
    "data = pd.read_csv('Churn_Modelling.csv')"
   ]
  },
  {
   "cell_type": "code",
   "execution_count": 68,
   "id": "5648ce45",
   "metadata": {},
   "outputs": [
    {
     "data": {
      "text/html": [
       "<div>\n",
       "<style scoped>\n",
       "    .dataframe tbody tr th:only-of-type {\n",
       "        vertical-align: middle;\n",
       "    }\n",
       "\n",
       "    .dataframe tbody tr th {\n",
       "        vertical-align: top;\n",
       "    }\n",
       "\n",
       "    .dataframe thead th {\n",
       "        text-align: right;\n",
       "    }\n",
       "</style>\n",
       "<table border=\"1\" class=\"dataframe\">\n",
       "  <thead>\n",
       "    <tr style=\"text-align: right;\">\n",
       "      <th></th>\n",
       "      <th>RowNumber</th>\n",
       "      <th>CustomerId</th>\n",
       "      <th>Surname</th>\n",
       "      <th>CreditScore</th>\n",
       "      <th>Geography</th>\n",
       "      <th>Gender</th>\n",
       "      <th>Age</th>\n",
       "      <th>Tenure</th>\n",
       "      <th>Balance</th>\n",
       "      <th>NumOfProducts</th>\n",
       "      <th>HasCrCard</th>\n",
       "      <th>IsActiveMember</th>\n",
       "      <th>EstimatedSalary</th>\n",
       "      <th>Exited</th>\n",
       "    </tr>\n",
       "  </thead>\n",
       "  <tbody>\n",
       "    <tr>\n",
       "      <th>0</th>\n",
       "      <td>1</td>\n",
       "      <td>15634602</td>\n",
       "      <td>Hargrave</td>\n",
       "      <td>619</td>\n",
       "      <td>France</td>\n",
       "      <td>Female</td>\n",
       "      <td>42</td>\n",
       "      <td>2</td>\n",
       "      <td>0.00</td>\n",
       "      <td>1</td>\n",
       "      <td>1</td>\n",
       "      <td>1</td>\n",
       "      <td>101348.88</td>\n",
       "      <td>1</td>\n",
       "    </tr>\n",
       "    <tr>\n",
       "      <th>1</th>\n",
       "      <td>2</td>\n",
       "      <td>15647311</td>\n",
       "      <td>Hill</td>\n",
       "      <td>608</td>\n",
       "      <td>Spain</td>\n",
       "      <td>Female</td>\n",
       "      <td>41</td>\n",
       "      <td>1</td>\n",
       "      <td>83807.86</td>\n",
       "      <td>1</td>\n",
       "      <td>0</td>\n",
       "      <td>1</td>\n",
       "      <td>112542.58</td>\n",
       "      <td>0</td>\n",
       "    </tr>\n",
       "    <tr>\n",
       "      <th>2</th>\n",
       "      <td>3</td>\n",
       "      <td>15619304</td>\n",
       "      <td>Onio</td>\n",
       "      <td>502</td>\n",
       "      <td>France</td>\n",
       "      <td>Female</td>\n",
       "      <td>42</td>\n",
       "      <td>8</td>\n",
       "      <td>159660.80</td>\n",
       "      <td>3</td>\n",
       "      <td>1</td>\n",
       "      <td>0</td>\n",
       "      <td>113931.57</td>\n",
       "      <td>1</td>\n",
       "    </tr>\n",
       "    <tr>\n",
       "      <th>3</th>\n",
       "      <td>4</td>\n",
       "      <td>15701354</td>\n",
       "      <td>Boni</td>\n",
       "      <td>699</td>\n",
       "      <td>France</td>\n",
       "      <td>Female</td>\n",
       "      <td>39</td>\n",
       "      <td>1</td>\n",
       "      <td>0.00</td>\n",
       "      <td>2</td>\n",
       "      <td>0</td>\n",
       "      <td>0</td>\n",
       "      <td>93826.63</td>\n",
       "      <td>0</td>\n",
       "    </tr>\n",
       "    <tr>\n",
       "      <th>4</th>\n",
       "      <td>5</td>\n",
       "      <td>15737888</td>\n",
       "      <td>Mitchell</td>\n",
       "      <td>850</td>\n",
       "      <td>Spain</td>\n",
       "      <td>Female</td>\n",
       "      <td>43</td>\n",
       "      <td>2</td>\n",
       "      <td>125510.82</td>\n",
       "      <td>1</td>\n",
       "      <td>1</td>\n",
       "      <td>1</td>\n",
       "      <td>79084.10</td>\n",
       "      <td>0</td>\n",
       "    </tr>\n",
       "  </tbody>\n",
       "</table>\n",
       "</div>"
      ],
      "text/plain": [
       "   RowNumber  CustomerId   Surname  CreditScore Geography  Gender  Age  \\\n",
       "0          1    15634602  Hargrave          619    France  Female   42   \n",
       "1          2    15647311      Hill          608     Spain  Female   41   \n",
       "2          3    15619304      Onio          502    France  Female   42   \n",
       "3          4    15701354      Boni          699    France  Female   39   \n",
       "4          5    15737888  Mitchell          850     Spain  Female   43   \n",
       "\n",
       "   Tenure    Balance  NumOfProducts  HasCrCard  IsActiveMember  \\\n",
       "0       2       0.00              1          1               1   \n",
       "1       1   83807.86              1          0               1   \n",
       "2       8  159660.80              3          1               0   \n",
       "3       1       0.00              2          0               0   \n",
       "4       2  125510.82              1          1               1   \n",
       "\n",
       "   EstimatedSalary  Exited  \n",
       "0        101348.88       1  \n",
       "1        112542.58       0  \n",
       "2        113931.57       1  \n",
       "3         93826.63       0  \n",
       "4         79084.10       0  "
      ]
     },
     "execution_count": 68,
     "metadata": {},
     "output_type": "execute_result"
    }
   ],
   "source": [
    "data.head()"
   ]
  },
  {
   "cell_type": "code",
   "execution_count": 69,
   "id": "ffa8ab4d",
   "metadata": {},
   "outputs": [
    {
     "name": "stdout",
     "output_type": "stream",
     "text": [
      "<class 'pandas.core.frame.DataFrame'>\n",
      "RangeIndex: 10000 entries, 0 to 9999\n",
      "Data columns (total 14 columns):\n",
      " #   Column           Non-Null Count  Dtype  \n",
      "---  ------           --------------  -----  \n",
      " 0   RowNumber        10000 non-null  int64  \n",
      " 1   CustomerId       10000 non-null  int64  \n",
      " 2   Surname          10000 non-null  object \n",
      " 3   CreditScore      10000 non-null  int64  \n",
      " 4   Geography        10000 non-null  object \n",
      " 5   Gender           10000 non-null  object \n",
      " 6   Age              10000 non-null  int64  \n",
      " 7   Tenure           10000 non-null  int64  \n",
      " 8   Balance          10000 non-null  float64\n",
      " 9   NumOfProducts    10000 non-null  int64  \n",
      " 10  HasCrCard        10000 non-null  int64  \n",
      " 11  IsActiveMember   10000 non-null  int64  \n",
      " 12  EstimatedSalary  10000 non-null  float64\n",
      " 13  Exited           10000 non-null  int64  \n",
      "dtypes: float64(2), int64(9), object(3)\n",
      "memory usage: 1.1+ MB\n"
     ]
    }
   ],
   "source": [
    "data.info()"
   ]
  },
  {
   "cell_type": "code",
   "execution_count": 70,
   "id": "743fd0a1",
   "metadata": {},
   "outputs": [
    {
     "data": {
      "text/plain": [
       "RowNumber          0\n",
       "CustomerId         0\n",
       "Surname            0\n",
       "CreditScore        0\n",
       "Geography          0\n",
       "Gender             0\n",
       "Age                0\n",
       "Tenure             0\n",
       "Balance            0\n",
       "NumOfProducts      0\n",
       "HasCrCard          0\n",
       "IsActiveMember     0\n",
       "EstimatedSalary    0\n",
       "Exited             0\n",
       "dtype: int64"
      ]
     },
     "execution_count": 70,
     "metadata": {},
     "output_type": "execute_result"
    }
   ],
   "source": [
    "data.isnull().sum()"
   ]
  },
  {
   "cell_type": "code",
   "execution_count": 71,
   "id": "c6f94393",
   "metadata": {},
   "outputs": [
    {
     "data": {
      "text/html": [
       "<div>\n",
       "<style scoped>\n",
       "    .dataframe tbody tr th:only-of-type {\n",
       "        vertical-align: middle;\n",
       "    }\n",
       "\n",
       "    .dataframe tbody tr th {\n",
       "        vertical-align: top;\n",
       "    }\n",
       "\n",
       "    .dataframe thead th {\n",
       "        text-align: right;\n",
       "    }\n",
       "</style>\n",
       "<table border=\"1\" class=\"dataframe\">\n",
       "  <thead>\n",
       "    <tr style=\"text-align: right;\">\n",
       "      <th></th>\n",
       "      <th>count</th>\n",
       "      <th>mean</th>\n",
       "      <th>std</th>\n",
       "      <th>min</th>\n",
       "      <th>25%</th>\n",
       "      <th>50%</th>\n",
       "      <th>75%</th>\n",
       "      <th>max</th>\n",
       "    </tr>\n",
       "  </thead>\n",
       "  <tbody>\n",
       "    <tr>\n",
       "      <th>RowNumber</th>\n",
       "      <td>10000.0</td>\n",
       "      <td>5.000500e+03</td>\n",
       "      <td>2886.895680</td>\n",
       "      <td>1.00</td>\n",
       "      <td>2500.75</td>\n",
       "      <td>5.000500e+03</td>\n",
       "      <td>7.500250e+03</td>\n",
       "      <td>10000.00</td>\n",
       "    </tr>\n",
       "    <tr>\n",
       "      <th>CustomerId</th>\n",
       "      <td>10000.0</td>\n",
       "      <td>1.569094e+07</td>\n",
       "      <td>71936.186123</td>\n",
       "      <td>15565701.00</td>\n",
       "      <td>15628528.25</td>\n",
       "      <td>1.569074e+07</td>\n",
       "      <td>1.575323e+07</td>\n",
       "      <td>15815690.00</td>\n",
       "    </tr>\n",
       "    <tr>\n",
       "      <th>CreditScore</th>\n",
       "      <td>10000.0</td>\n",
       "      <td>6.505288e+02</td>\n",
       "      <td>96.653299</td>\n",
       "      <td>350.00</td>\n",
       "      <td>584.00</td>\n",
       "      <td>6.520000e+02</td>\n",
       "      <td>7.180000e+02</td>\n",
       "      <td>850.00</td>\n",
       "    </tr>\n",
       "    <tr>\n",
       "      <th>Age</th>\n",
       "      <td>10000.0</td>\n",
       "      <td>3.892180e+01</td>\n",
       "      <td>10.487806</td>\n",
       "      <td>18.00</td>\n",
       "      <td>32.00</td>\n",
       "      <td>3.700000e+01</td>\n",
       "      <td>4.400000e+01</td>\n",
       "      <td>92.00</td>\n",
       "    </tr>\n",
       "    <tr>\n",
       "      <th>Tenure</th>\n",
       "      <td>10000.0</td>\n",
       "      <td>5.012800e+00</td>\n",
       "      <td>2.892174</td>\n",
       "      <td>0.00</td>\n",
       "      <td>3.00</td>\n",
       "      <td>5.000000e+00</td>\n",
       "      <td>7.000000e+00</td>\n",
       "      <td>10.00</td>\n",
       "    </tr>\n",
       "    <tr>\n",
       "      <th>Balance</th>\n",
       "      <td>10000.0</td>\n",
       "      <td>7.648589e+04</td>\n",
       "      <td>62397.405202</td>\n",
       "      <td>0.00</td>\n",
       "      <td>0.00</td>\n",
       "      <td>9.719854e+04</td>\n",
       "      <td>1.276442e+05</td>\n",
       "      <td>250898.09</td>\n",
       "    </tr>\n",
       "    <tr>\n",
       "      <th>NumOfProducts</th>\n",
       "      <td>10000.0</td>\n",
       "      <td>1.530200e+00</td>\n",
       "      <td>0.581654</td>\n",
       "      <td>1.00</td>\n",
       "      <td>1.00</td>\n",
       "      <td>1.000000e+00</td>\n",
       "      <td>2.000000e+00</td>\n",
       "      <td>4.00</td>\n",
       "    </tr>\n",
       "    <tr>\n",
       "      <th>HasCrCard</th>\n",
       "      <td>10000.0</td>\n",
       "      <td>7.055000e-01</td>\n",
       "      <td>0.455840</td>\n",
       "      <td>0.00</td>\n",
       "      <td>0.00</td>\n",
       "      <td>1.000000e+00</td>\n",
       "      <td>1.000000e+00</td>\n",
       "      <td>1.00</td>\n",
       "    </tr>\n",
       "    <tr>\n",
       "      <th>IsActiveMember</th>\n",
       "      <td>10000.0</td>\n",
       "      <td>5.151000e-01</td>\n",
       "      <td>0.499797</td>\n",
       "      <td>0.00</td>\n",
       "      <td>0.00</td>\n",
       "      <td>1.000000e+00</td>\n",
       "      <td>1.000000e+00</td>\n",
       "      <td>1.00</td>\n",
       "    </tr>\n",
       "    <tr>\n",
       "      <th>EstimatedSalary</th>\n",
       "      <td>10000.0</td>\n",
       "      <td>1.000902e+05</td>\n",
       "      <td>57510.492818</td>\n",
       "      <td>11.58</td>\n",
       "      <td>51002.11</td>\n",
       "      <td>1.001939e+05</td>\n",
       "      <td>1.493882e+05</td>\n",
       "      <td>199992.48</td>\n",
       "    </tr>\n",
       "    <tr>\n",
       "      <th>Exited</th>\n",
       "      <td>10000.0</td>\n",
       "      <td>2.037000e-01</td>\n",
       "      <td>0.402769</td>\n",
       "      <td>0.00</td>\n",
       "      <td>0.00</td>\n",
       "      <td>0.000000e+00</td>\n",
       "      <td>0.000000e+00</td>\n",
       "      <td>1.00</td>\n",
       "    </tr>\n",
       "  </tbody>\n",
       "</table>\n",
       "</div>"
      ],
      "text/plain": [
       "                   count          mean           std          min  \\\n",
       "RowNumber        10000.0  5.000500e+03   2886.895680         1.00   \n",
       "CustomerId       10000.0  1.569094e+07  71936.186123  15565701.00   \n",
       "CreditScore      10000.0  6.505288e+02     96.653299       350.00   \n",
       "Age              10000.0  3.892180e+01     10.487806        18.00   \n",
       "Tenure           10000.0  5.012800e+00      2.892174         0.00   \n",
       "Balance          10000.0  7.648589e+04  62397.405202         0.00   \n",
       "NumOfProducts    10000.0  1.530200e+00      0.581654         1.00   \n",
       "HasCrCard        10000.0  7.055000e-01      0.455840         0.00   \n",
       "IsActiveMember   10000.0  5.151000e-01      0.499797         0.00   \n",
       "EstimatedSalary  10000.0  1.000902e+05  57510.492818        11.58   \n",
       "Exited           10000.0  2.037000e-01      0.402769         0.00   \n",
       "\n",
       "                         25%           50%           75%          max  \n",
       "RowNumber            2500.75  5.000500e+03  7.500250e+03     10000.00  \n",
       "CustomerId       15628528.25  1.569074e+07  1.575323e+07  15815690.00  \n",
       "CreditScore           584.00  6.520000e+02  7.180000e+02       850.00  \n",
       "Age                    32.00  3.700000e+01  4.400000e+01        92.00  \n",
       "Tenure                  3.00  5.000000e+00  7.000000e+00        10.00  \n",
       "Balance                 0.00  9.719854e+04  1.276442e+05    250898.09  \n",
       "NumOfProducts           1.00  1.000000e+00  2.000000e+00         4.00  \n",
       "HasCrCard               0.00  1.000000e+00  1.000000e+00         1.00  \n",
       "IsActiveMember          0.00  1.000000e+00  1.000000e+00         1.00  \n",
       "EstimatedSalary     51002.11  1.001939e+05  1.493882e+05    199992.48  \n",
       "Exited                  0.00  0.000000e+00  0.000000e+00         1.00  "
      ]
     },
     "execution_count": 71,
     "metadata": {},
     "output_type": "execute_result"
    }
   ],
   "source": [
    "data.describe().T"
   ]
  },
  {
   "cell_type": "markdown",
   "id": "80388a27",
   "metadata": {},
   "source": [
    "#### split dataset into dependent & independent"
   ]
  },
  {
   "cell_type": "code",
   "execution_count": 72,
   "id": "25544c53",
   "metadata": {},
   "outputs": [],
   "source": [
    "X = data.iloc[:,3:13]\n",
    "y = data.iloc[:,13]"
   ]
  },
  {
   "cell_type": "code",
   "execution_count": 73,
   "id": "d9b0bed4",
   "metadata": {},
   "outputs": [
    {
     "data": {
      "text/html": [
       "<div>\n",
       "<style scoped>\n",
       "    .dataframe tbody tr th:only-of-type {\n",
       "        vertical-align: middle;\n",
       "    }\n",
       "\n",
       "    .dataframe tbody tr th {\n",
       "        vertical-align: top;\n",
       "    }\n",
       "\n",
       "    .dataframe thead th {\n",
       "        text-align: right;\n",
       "    }\n",
       "</style>\n",
       "<table border=\"1\" class=\"dataframe\">\n",
       "  <thead>\n",
       "    <tr style=\"text-align: right;\">\n",
       "      <th></th>\n",
       "      <th>CreditScore</th>\n",
       "      <th>Geography</th>\n",
       "      <th>Gender</th>\n",
       "      <th>Age</th>\n",
       "      <th>Tenure</th>\n",
       "      <th>Balance</th>\n",
       "      <th>NumOfProducts</th>\n",
       "      <th>HasCrCard</th>\n",
       "      <th>IsActiveMember</th>\n",
       "      <th>EstimatedSalary</th>\n",
       "    </tr>\n",
       "  </thead>\n",
       "  <tbody>\n",
       "    <tr>\n",
       "      <th>0</th>\n",
       "      <td>619</td>\n",
       "      <td>France</td>\n",
       "      <td>Female</td>\n",
       "      <td>42</td>\n",
       "      <td>2</td>\n",
       "      <td>0.00</td>\n",
       "      <td>1</td>\n",
       "      <td>1</td>\n",
       "      <td>1</td>\n",
       "      <td>101348.88</td>\n",
       "    </tr>\n",
       "    <tr>\n",
       "      <th>1</th>\n",
       "      <td>608</td>\n",
       "      <td>Spain</td>\n",
       "      <td>Female</td>\n",
       "      <td>41</td>\n",
       "      <td>1</td>\n",
       "      <td>83807.86</td>\n",
       "      <td>1</td>\n",
       "      <td>0</td>\n",
       "      <td>1</td>\n",
       "      <td>112542.58</td>\n",
       "    </tr>\n",
       "    <tr>\n",
       "      <th>2</th>\n",
       "      <td>502</td>\n",
       "      <td>France</td>\n",
       "      <td>Female</td>\n",
       "      <td>42</td>\n",
       "      <td>8</td>\n",
       "      <td>159660.80</td>\n",
       "      <td>3</td>\n",
       "      <td>1</td>\n",
       "      <td>0</td>\n",
       "      <td>113931.57</td>\n",
       "    </tr>\n",
       "    <tr>\n",
       "      <th>3</th>\n",
       "      <td>699</td>\n",
       "      <td>France</td>\n",
       "      <td>Female</td>\n",
       "      <td>39</td>\n",
       "      <td>1</td>\n",
       "      <td>0.00</td>\n",
       "      <td>2</td>\n",
       "      <td>0</td>\n",
       "      <td>0</td>\n",
       "      <td>93826.63</td>\n",
       "    </tr>\n",
       "    <tr>\n",
       "      <th>4</th>\n",
       "      <td>850</td>\n",
       "      <td>Spain</td>\n",
       "      <td>Female</td>\n",
       "      <td>43</td>\n",
       "      <td>2</td>\n",
       "      <td>125510.82</td>\n",
       "      <td>1</td>\n",
       "      <td>1</td>\n",
       "      <td>1</td>\n",
       "      <td>79084.10</td>\n",
       "    </tr>\n",
       "  </tbody>\n",
       "</table>\n",
       "</div>"
      ],
      "text/plain": [
       "   CreditScore Geography  Gender  Age  Tenure    Balance  NumOfProducts  \\\n",
       "0          619    France  Female   42       2       0.00              1   \n",
       "1          608     Spain  Female   41       1   83807.86              1   \n",
       "2          502    France  Female   42       8  159660.80              3   \n",
       "3          699    France  Female   39       1       0.00              2   \n",
       "4          850     Spain  Female   43       2  125510.82              1   \n",
       "\n",
       "   HasCrCard  IsActiveMember  EstimatedSalary  \n",
       "0          1               1        101348.88  \n",
       "1          0               1        112542.58  \n",
       "2          1               0        113931.57  \n",
       "3          0               0         93826.63  \n",
       "4          1               1         79084.10  "
      ]
     },
     "execution_count": 73,
     "metadata": {},
     "output_type": "execute_result"
    }
   ],
   "source": [
    "X.head()"
   ]
  },
  {
   "cell_type": "markdown",
   "id": "8dfd54f3",
   "metadata": {},
   "source": [
    "#### Feature engineering"
   ]
  },
  {
   "cell_type": "code",
   "execution_count": 74,
   "id": "564d5a92",
   "metadata": {},
   "outputs": [],
   "source": [
    "geography = pd.get_dummies(X['Geography'], drop_first=True)\n",
    "gender = pd.get_dummies(X['Gender'], drop_first=True)"
   ]
  },
  {
   "cell_type": "markdown",
   "id": "fb06c855",
   "metadata": {},
   "source": [
    "##### Concate with main data set"
   ]
  },
  {
   "cell_type": "code",
   "execution_count": 75,
   "id": "83ba3401",
   "metadata": {},
   "outputs": [],
   "source": [
    "X =X.drop(['Gender','Geography'],axis=1)"
   ]
  },
  {
   "cell_type": "code",
   "execution_count": 76,
   "id": "a3fea528",
   "metadata": {},
   "outputs": [],
   "source": [
    "X = pd.concat([X,gender,geography], axis=1)"
   ]
  },
  {
   "cell_type": "code",
   "execution_count": 77,
   "id": "9396822a",
   "metadata": {},
   "outputs": [
    {
     "data": {
      "text/html": [
       "<div>\n",
       "<style scoped>\n",
       "    .dataframe tbody tr th:only-of-type {\n",
       "        vertical-align: middle;\n",
       "    }\n",
       "\n",
       "    .dataframe tbody tr th {\n",
       "        vertical-align: top;\n",
       "    }\n",
       "\n",
       "    .dataframe thead th {\n",
       "        text-align: right;\n",
       "    }\n",
       "</style>\n",
       "<table border=\"1\" class=\"dataframe\">\n",
       "  <thead>\n",
       "    <tr style=\"text-align: right;\">\n",
       "      <th></th>\n",
       "      <th>CreditScore</th>\n",
       "      <th>Age</th>\n",
       "      <th>Tenure</th>\n",
       "      <th>Balance</th>\n",
       "      <th>NumOfProducts</th>\n",
       "      <th>HasCrCard</th>\n",
       "      <th>IsActiveMember</th>\n",
       "      <th>EstimatedSalary</th>\n",
       "      <th>Male</th>\n",
       "      <th>Germany</th>\n",
       "      <th>Spain</th>\n",
       "    </tr>\n",
       "  </thead>\n",
       "  <tbody>\n",
       "    <tr>\n",
       "      <th>0</th>\n",
       "      <td>619</td>\n",
       "      <td>42</td>\n",
       "      <td>2</td>\n",
       "      <td>0.00</td>\n",
       "      <td>1</td>\n",
       "      <td>1</td>\n",
       "      <td>1</td>\n",
       "      <td>101348.88</td>\n",
       "      <td>0</td>\n",
       "      <td>0</td>\n",
       "      <td>0</td>\n",
       "    </tr>\n",
       "    <tr>\n",
       "      <th>1</th>\n",
       "      <td>608</td>\n",
       "      <td>41</td>\n",
       "      <td>1</td>\n",
       "      <td>83807.86</td>\n",
       "      <td>1</td>\n",
       "      <td>0</td>\n",
       "      <td>1</td>\n",
       "      <td>112542.58</td>\n",
       "      <td>0</td>\n",
       "      <td>0</td>\n",
       "      <td>1</td>\n",
       "    </tr>\n",
       "  </tbody>\n",
       "</table>\n",
       "</div>"
      ],
      "text/plain": [
       "   CreditScore  Age  Tenure   Balance  NumOfProducts  HasCrCard  \\\n",
       "0          619   42       2      0.00              1          1   \n",
       "1          608   41       1  83807.86              1          0   \n",
       "\n",
       "   IsActiveMember  EstimatedSalary  Male  Germany  Spain  \n",
       "0               1        101348.88     0        0      0  \n",
       "1               1        112542.58     0        0      1  "
      ]
     },
     "execution_count": 77,
     "metadata": {},
     "output_type": "execute_result"
    }
   ],
   "source": [
    "X.head(2)"
   ]
  },
  {
   "cell_type": "markdown",
   "id": "af7b89b8",
   "metadata": {},
   "source": [
    "### Train Test split"
   ]
  },
  {
   "cell_type": "code",
   "execution_count": 78,
   "id": "956b3677",
   "metadata": {},
   "outputs": [],
   "source": [
    "from sklearn.model_selection import train_test_split\n",
    "X_train,X_test,y_train,y_test = train_test_split(X,y,test_size=0.2,random_state=11)"
   ]
  },
  {
   "cell_type": "code",
   "execution_count": 79,
   "id": "c968a6d7",
   "metadata": {},
   "outputs": [],
   "source": [
    "from sklearn.preprocessing import StandardScaler\n",
    "sc=StandardScaler()\n",
    "X_train = sc.fit_transform(X_train)\n",
    "X_test = sc.transform(X_test)"
   ]
  },
  {
   "cell_type": "code",
   "execution_count": 80,
   "id": "4904daf1",
   "metadata": {},
   "outputs": [
    {
     "data": {
      "text/plain": [
       "array([[-0.23290937,  0.01327717,  1.03405347, ..., -1.09720406,\n",
       "        -0.57754272,  1.74426078],\n",
       "       [ 0.87701484, -1.04027661, -1.04863227, ..., -1.09720406,\n",
       "        -0.57754272,  1.74426078],\n",
       "       [-1.08590669,  1.3541638 , -0.0072894 , ...,  0.91140749,\n",
       "         1.73147365, -0.57330877],\n",
       "       ...,\n",
       "       [-0.2637406 , -0.65716614,  0.68693918, ...,  0.91140749,\n",
       "        -0.57754272,  1.74426078],\n",
       "       [-1.42505019,  0.30061002,  1.38116776, ...,  0.91140749,\n",
       "         1.73147365, -0.57330877],\n",
       "       [-1.26061698, -1.61494231, -0.0072894 , ...,  0.91140749,\n",
       "         1.73147365, -0.57330877]])"
      ]
     },
     "execution_count": 80,
     "metadata": {},
     "output_type": "execute_result"
    }
   ],
   "source": [
    "X_train\n"
   ]
  },
  {
   "cell_type": "code",
   "execution_count": 81,
   "id": "94fc4b66",
   "metadata": {},
   "outputs": [
    {
     "data": {
      "text/plain": [
       "array([[-1.28117113, -0.75294376, -0.0072894 , ...,  0.91140749,\n",
       "         1.73147365, -0.57330877],\n",
       "       [-0.54122166, -0.36983329,  1.03405347, ...,  0.91140749,\n",
       "        -0.57754272, -0.57330877],\n",
       "       [-1.11673791,  2.69505044,  1.72828204, ...,  0.91140749,\n",
       "        -0.57754272, -0.57330877],\n",
       "       ...,\n",
       "       [ 0.80507531, -0.94449899, -0.0072894 , ...,  0.91140749,\n",
       "         1.73147365, -0.57330877],\n",
       "       [ 0.10623413,  0.20483241, -0.0072894 , ..., -1.09720406,\n",
       "        -0.57754272,  1.74426078],\n",
       "       [ 2.04860151, -0.94449899,  0.33982489, ...,  0.91140749,\n",
       "        -0.57754272, -0.57330877]])"
      ]
     },
     "execution_count": 81,
     "metadata": {},
     "output_type": "execute_result"
    }
   ],
   "source": [
    "X_test"
   ]
  },
  {
   "cell_type": "code",
   "execution_count": 82,
   "id": "2c2b95fa",
   "metadata": {},
   "outputs": [
    {
     "data": {
      "text/plain": [
       "(8000, 11)"
      ]
     },
     "execution_count": 82,
     "metadata": {},
     "output_type": "execute_result"
    }
   ],
   "source": [
    "X_train.shape"
   ]
  },
  {
   "cell_type": "code",
   "execution_count": 83,
   "id": "bc015f2f",
   "metadata": {},
   "outputs": [
    {
     "data": {
      "text/plain": [
       "(2000, 11)"
      ]
     },
     "execution_count": 83,
     "metadata": {},
     "output_type": "execute_result"
    }
   ],
   "source": [
    "X_test.shape"
   ]
  },
  {
   "cell_type": "markdown",
   "id": "6047afed",
   "metadata": {},
   "source": [
    "### ANN"
   ]
  },
  {
   "cell_type": "code",
   "execution_count": 84,
   "id": "6384f397",
   "metadata": {},
   "outputs": [],
   "source": [
    "from tensorflow.keras.models import Sequential\n",
    "from tensorflow.keras.layers import Dense\n",
    "from tensorflow.keras.layers import ReLU,LeakyReLU,PReLU,ELU\n",
    "from tensorflow.keras.layers import Dropout"
   ]
  },
  {
   "cell_type": "code",
   "execution_count": 96,
   "id": "58a44995",
   "metadata": {},
   "outputs": [],
   "source": [
    "classifier = Sequential()\n",
    "#adding input layer\n",
    "classifier.add(Dense(units=11,activation='relu'))\n",
    "#adding first hidden layer\n",
    "classifier.add(Dense(units=8,activation='relu'))\n",
    "# add dropout\n",
    "classifier.add(Dropout(0.2))\n",
    "#adding 2nd hidden layer\n",
    "classifier.add(Dense(units=6,activation='relu'))\n",
    "# add dropout\n",
    "classifier.add(Dropout(0.2))\n",
    "#adding output layer\n",
    "classifier.add(Dense(1,activation='sigmoid'))"
   ]
  },
  {
   "cell_type": "code",
   "execution_count": 97,
   "id": "c85c1c37",
   "metadata": {},
   "outputs": [],
   "source": [
    "classifier.compile(optimizer='adam',loss='binary_crossentropy',metrics=['accuracy'])"
   ]
  },
  {
   "cell_type": "code",
   "execution_count": 98,
   "id": "a133a57c",
   "metadata": {},
   "outputs": [],
   "source": [
    "#if the learning rate needs to be initialized manually\n",
    "opt = tf.keras.optimizers.Adam(learning_rate=0.01)"
   ]
  },
  {
   "cell_type": "code",
   "execution_count": 99,
   "id": "8c64c63e",
   "metadata": {},
   "outputs": [],
   "source": [
    "#For early stop during the training\n",
    "\n",
    "early_stop=tf.keras.callbacks.EarlyStopping(\n",
    "    monitor=\"val_loss\",\n",
    "    min_delta=0.0001,\n",
    "    patience=20,\n",
    "    verbose=1,\n",
    "    mode=\"auto\",\n",
    "    baseline=None,\n",
    "    restore_best_weights=False\n",
    ")"
   ]
  },
  {
   "cell_type": "code",
   "execution_count": 100,
   "id": "e7ef24cd",
   "metadata": {},
   "outputs": [
    {
     "name": "stdout",
     "output_type": "stream",
     "text": [
      "Epoch 1/200\n",
      "560/560 [==============================] - 3s 4ms/step - loss: 0.5301 - accuracy: 0.7880 - val_loss: 0.4574 - val_accuracy: 0.7883\n",
      "Epoch 2/200\n",
      "560/560 [==============================] - 2s 3ms/step - loss: 0.4700 - accuracy: 0.7980 - val_loss: 0.4345 - val_accuracy: 0.7883\n",
      "Epoch 3/200\n",
      "560/560 [==============================] - 2s 3ms/step - loss: 0.4568 - accuracy: 0.8005 - val_loss: 0.4262 - val_accuracy: 0.7908\n",
      "Epoch 4/200\n",
      "560/560 [==============================] - 2s 3ms/step - loss: 0.4505 - accuracy: 0.8048 - val_loss: 0.4206 - val_accuracy: 0.8033\n",
      "Epoch 5/200\n",
      "560/560 [==============================] - 2s 3ms/step - loss: 0.4378 - accuracy: 0.8130 - val_loss: 0.4126 - val_accuracy: 0.8154\n",
      "Epoch 6/200\n",
      "560/560 [==============================] - 2s 3ms/step - loss: 0.4334 - accuracy: 0.8139 - val_loss: 0.4083 - val_accuracy: 0.8213\n",
      "Epoch 7/200\n",
      "560/560 [==============================] - 1s 3ms/step - loss: 0.4245 - accuracy: 0.8204 - val_loss: 0.3997 - val_accuracy: 0.8296\n",
      "Epoch 8/200\n",
      "560/560 [==============================] - 1s 2ms/step - loss: 0.4158 - accuracy: 0.8325 - val_loss: 0.3823 - val_accuracy: 0.8442\n",
      "Epoch 9/200\n",
      "560/560 [==============================] - 2s 3ms/step - loss: 0.4052 - accuracy: 0.8341 - val_loss: 0.3787 - val_accuracy: 0.8458\n",
      "Epoch 10/200\n",
      "560/560 [==============================] - 2s 3ms/step - loss: 0.3973 - accuracy: 0.8368 - val_loss: 0.3635 - val_accuracy: 0.8483\n",
      "Epoch 11/200\n",
      "560/560 [==============================] - 1s 3ms/step - loss: 0.3935 - accuracy: 0.8384 - val_loss: 0.3611 - val_accuracy: 0.8508\n",
      "Epoch 12/200\n",
      "560/560 [==============================] - 1s 3ms/step - loss: 0.3841 - accuracy: 0.8427 - val_loss: 0.3507 - val_accuracy: 0.8512\n",
      "Epoch 13/200\n",
      "560/560 [==============================] - 1s 2ms/step - loss: 0.3833 - accuracy: 0.8436 - val_loss: 0.3543 - val_accuracy: 0.8546\n",
      "Epoch 14/200\n",
      "560/560 [==============================] - 1s 2ms/step - loss: 0.3842 - accuracy: 0.8430 - val_loss: 0.3468 - val_accuracy: 0.8542\n",
      "Epoch 15/200\n",
      "560/560 [==============================] - 1s 2ms/step - loss: 0.3763 - accuracy: 0.8455 - val_loss: 0.3437 - val_accuracy: 0.8567\n",
      "Epoch 16/200\n",
      "560/560 [==============================] - 1s 2ms/step - loss: 0.3749 - accuracy: 0.8464 - val_loss: 0.3436 - val_accuracy: 0.8542\n",
      "Epoch 17/200\n",
      "560/560 [==============================] - 1s 2ms/step - loss: 0.3717 - accuracy: 0.8466 - val_loss: 0.3399 - val_accuracy: 0.8546\n",
      "Epoch 18/200\n",
      "560/560 [==============================] - 2s 3ms/step - loss: 0.3749 - accuracy: 0.8471 - val_loss: 0.3410 - val_accuracy: 0.8567\n",
      "Epoch 19/200\n",
      "560/560 [==============================] - 1s 3ms/step - loss: 0.3710 - accuracy: 0.8471 - val_loss: 0.3393 - val_accuracy: 0.8562\n",
      "Epoch 20/200\n",
      "560/560 [==============================] - 1s 2ms/step - loss: 0.3786 - accuracy: 0.8427 - val_loss: 0.3387 - val_accuracy: 0.8571\n",
      "Epoch 21/200\n",
      "560/560 [==============================] - 1s 3ms/step - loss: 0.3719 - accuracy: 0.8484 - val_loss: 0.3364 - val_accuracy: 0.8558\n",
      "Epoch 22/200\n",
      "560/560 [==============================] - 1s 3ms/step - loss: 0.3679 - accuracy: 0.8514 - val_loss: 0.3392 - val_accuracy: 0.8558\n",
      "Epoch 23/200\n",
      "560/560 [==============================] - 2s 3ms/step - loss: 0.3696 - accuracy: 0.8455 - val_loss: 0.3397 - val_accuracy: 0.8550\n",
      "Epoch 24/200\n",
      "560/560 [==============================] - 1s 3ms/step - loss: 0.3678 - accuracy: 0.8479 - val_loss: 0.3382 - val_accuracy: 0.8575\n",
      "Epoch 25/200\n",
      "560/560 [==============================] - 2s 3ms/step - loss: 0.3659 - accuracy: 0.8486 - val_loss: 0.3371 - val_accuracy: 0.8533\n",
      "Epoch 26/200\n",
      "560/560 [==============================] - 2s 3ms/step - loss: 0.3720 - accuracy: 0.8466 - val_loss: 0.3372 - val_accuracy: 0.8575\n",
      "Epoch 27/200\n",
      "560/560 [==============================] - 2s 3ms/step - loss: 0.3671 - accuracy: 0.8511 - val_loss: 0.3392 - val_accuracy: 0.8554\n",
      "Epoch 28/200\n",
      "560/560 [==============================] - 2s 4ms/step - loss: 0.3680 - accuracy: 0.8484 - val_loss: 0.3356 - val_accuracy: 0.8562\n",
      "Epoch 29/200\n",
      "560/560 [==============================] - 1s 2ms/step - loss: 0.3696 - accuracy: 0.8468 - val_loss: 0.3373 - val_accuracy: 0.8575\n",
      "Epoch 30/200\n",
      "560/560 [==============================] - 1s 3ms/step - loss: 0.3655 - accuracy: 0.8468 - val_loss: 0.3390 - val_accuracy: 0.8533\n",
      "Epoch 31/200\n",
      "560/560 [==============================] - 1s 3ms/step - loss: 0.3638 - accuracy: 0.8502 - val_loss: 0.3401 - val_accuracy: 0.8537\n",
      "Epoch 32/200\n",
      "560/560 [==============================] - 2s 3ms/step - loss: 0.3647 - accuracy: 0.8500 - val_loss: 0.3381 - val_accuracy: 0.8579\n",
      "Epoch 33/200\n",
      "560/560 [==============================] - 1s 3ms/step - loss: 0.3643 - accuracy: 0.8446 - val_loss: 0.3345 - val_accuracy: 0.8550\n",
      "Epoch 34/200\n",
      "560/560 [==============================] - 1s 2ms/step - loss: 0.3660 - accuracy: 0.8486 - val_loss: 0.3326 - val_accuracy: 0.8550\n",
      "Epoch 35/200\n",
      "560/560 [==============================] - 1s 2ms/step - loss: 0.3675 - accuracy: 0.8461 - val_loss: 0.3344 - val_accuracy: 0.8583\n",
      "Epoch 36/200\n",
      "560/560 [==============================] - 1s 2ms/step - loss: 0.3625 - accuracy: 0.8466 - val_loss: 0.3392 - val_accuracy: 0.8587\n",
      "Epoch 37/200\n",
      "560/560 [==============================] - 2s 3ms/step - loss: 0.3625 - accuracy: 0.8445 - val_loss: 0.3373 - val_accuracy: 0.8604\n",
      "Epoch 38/200\n",
      "560/560 [==============================] - 2s 3ms/step - loss: 0.3647 - accuracy: 0.8439 - val_loss: 0.3414 - val_accuracy: 0.8550\n",
      "Epoch 39/200\n",
      "560/560 [==============================] - 1s 2ms/step - loss: 0.3640 - accuracy: 0.8468 - val_loss: 0.3358 - val_accuracy: 0.8562\n",
      "Epoch 40/200\n",
      "560/560 [==============================] - 1s 3ms/step - loss: 0.3656 - accuracy: 0.8471 - val_loss: 0.3331 - val_accuracy: 0.8596\n",
      "Epoch 41/200\n",
      "560/560 [==============================] - 2s 3ms/step - loss: 0.3666 - accuracy: 0.8459 - val_loss: 0.3365 - val_accuracy: 0.8558\n",
      "Epoch 42/200\n",
      "560/560 [==============================] - 2s 3ms/step - loss: 0.3595 - accuracy: 0.8502 - val_loss: 0.3377 - val_accuracy: 0.8537\n",
      "Epoch 43/200\n",
      "560/560 [==============================] - 2s 3ms/step - loss: 0.3607 - accuracy: 0.8500 - val_loss: 0.3373 - val_accuracy: 0.8571\n",
      "Epoch 44/200\n",
      "560/560 [==============================] - 2s 3ms/step - loss: 0.3595 - accuracy: 0.8495 - val_loss: 0.3340 - val_accuracy: 0.8575\n",
      "Epoch 45/200\n",
      "560/560 [==============================] - 1s 3ms/step - loss: 0.3628 - accuracy: 0.8479 - val_loss: 0.3385 - val_accuracy: 0.8575\n",
      "Epoch 46/200\n",
      "560/560 [==============================] - 1s 3ms/step - loss: 0.3635 - accuracy: 0.8511 - val_loss: 0.3364 - val_accuracy: 0.8550\n",
      "Epoch 47/200\n",
      "560/560 [==============================] - 2s 3ms/step - loss: 0.3596 - accuracy: 0.8496 - val_loss: 0.3348 - val_accuracy: 0.8612\n",
      "Epoch 48/200\n",
      "560/560 [==============================] - 2s 4ms/step - loss: 0.3641 - accuracy: 0.8462 - val_loss: 0.3367 - val_accuracy: 0.8596\n",
      "Epoch 49/200\n",
      "560/560 [==============================] - 2s 3ms/step - loss: 0.3595 - accuracy: 0.8505 - val_loss: 0.3339 - val_accuracy: 0.8575\n",
      "Epoch 50/200\n",
      "560/560 [==============================] - 2s 3ms/step - loss: 0.3588 - accuracy: 0.8505 - val_loss: 0.3321 - val_accuracy: 0.8571\n",
      "Epoch 51/200\n",
      "560/560 [==============================] - 2s 3ms/step - loss: 0.3598 - accuracy: 0.8484 - val_loss: 0.3363 - val_accuracy: 0.8550\n",
      "Epoch 52/200\n",
      "560/560 [==============================] - 2s 3ms/step - loss: 0.3605 - accuracy: 0.8505 - val_loss: 0.3387 - val_accuracy: 0.8542\n",
      "Epoch 53/200\n",
      "560/560 [==============================] - 2s 3ms/step - loss: 0.3590 - accuracy: 0.8518 - val_loss: 0.3342 - val_accuracy: 0.8562\n",
      "Epoch 54/200\n",
      "560/560 [==============================] - 2s 4ms/step - loss: 0.3620 - accuracy: 0.8495 - val_loss: 0.3372 - val_accuracy: 0.8558\n",
      "Epoch 55/200\n",
      "560/560 [==============================] - 2s 3ms/step - loss: 0.3587 - accuracy: 0.8480 - val_loss: 0.3398 - val_accuracy: 0.8562\n",
      "Epoch 56/200\n",
      "560/560 [==============================] - 2s 4ms/step - loss: 0.3580 - accuracy: 0.8496 - val_loss: 0.3348 - val_accuracy: 0.8550\n",
      "Epoch 57/200\n",
      "560/560 [==============================] - 2s 4ms/step - loss: 0.3546 - accuracy: 0.8536 - val_loss: 0.3339 - val_accuracy: 0.8575\n"
     ]
    },
    {
     "name": "stdout",
     "output_type": "stream",
     "text": [
      "Epoch 58/200\n",
      "560/560 [==============================] - 2s 3ms/step - loss: 0.3588 - accuracy: 0.8512 - val_loss: 0.3369 - val_accuracy: 0.8562\n",
      "Epoch 59/200\n",
      "560/560 [==============================] - 2s 3ms/step - loss: 0.3601 - accuracy: 0.8500 - val_loss: 0.3375 - val_accuracy: 0.8592\n",
      "Epoch 60/200\n",
      "560/560 [==============================] - 2s 3ms/step - loss: 0.3599 - accuracy: 0.8466 - val_loss: 0.3372 - val_accuracy: 0.8562\n",
      "Epoch 61/200\n",
      "560/560 [==============================] - 2s 3ms/step - loss: 0.3577 - accuracy: 0.8504 - val_loss: 0.3370 - val_accuracy: 0.8558\n",
      "Epoch 62/200\n",
      "560/560 [==============================] - 2s 3ms/step - loss: 0.3559 - accuracy: 0.8523 - val_loss: 0.3355 - val_accuracy: 0.8583\n",
      "Epoch 63/200\n",
      "560/560 [==============================] - 2s 3ms/step - loss: 0.3626 - accuracy: 0.8482 - val_loss: 0.3401 - val_accuracy: 0.8562\n",
      "Epoch 64/200\n",
      "560/560 [==============================] - 2s 3ms/step - loss: 0.3609 - accuracy: 0.8514 - val_loss: 0.3350 - val_accuracy: 0.8579\n",
      "Epoch 65/200\n",
      "560/560 [==============================] - 2s 3ms/step - loss: 0.3594 - accuracy: 0.8487 - val_loss: 0.3373 - val_accuracy: 0.8546\n",
      "Epoch 66/200\n",
      "560/560 [==============================] - 2s 4ms/step - loss: 0.3626 - accuracy: 0.8486 - val_loss: 0.3340 - val_accuracy: 0.8587\n",
      "Epoch 67/200\n",
      "560/560 [==============================] - 2s 4ms/step - loss: 0.3553 - accuracy: 0.8509 - val_loss: 0.3376 - val_accuracy: 0.8575\n",
      "Epoch 68/200\n",
      "560/560 [==============================] - 2s 3ms/step - loss: 0.3576 - accuracy: 0.8498 - val_loss: 0.3338 - val_accuracy: 0.8592\n",
      "Epoch 69/200\n",
      "560/560 [==============================] - 2s 3ms/step - loss: 0.3582 - accuracy: 0.8477 - val_loss: 0.3365 - val_accuracy: 0.8587\n",
      "Epoch 70/200\n",
      "560/560 [==============================] - 1s 3ms/step - loss: 0.3620 - accuracy: 0.8491 - val_loss: 0.3341 - val_accuracy: 0.8592\n",
      "Epoch 70: early stopping\n"
     ]
    }
   ],
   "source": [
    "model_history = classifier.fit(X_train,y_train,validation_split=0.3, batch_size=10, epochs=200,callbacks=early_stop)"
   ]
  },
  {
   "cell_type": "code",
   "execution_count": 101,
   "id": "757ab468",
   "metadata": {},
   "outputs": [
    {
     "data": {
      "text/plain": [
       "dict_keys(['loss', 'accuracy', 'val_loss', 'val_accuracy'])"
      ]
     },
     "execution_count": 101,
     "metadata": {},
     "output_type": "execute_result"
    }
   ],
   "source": [
    "model_history.history.keys()"
   ]
  },
  {
   "cell_type": "code",
   "execution_count": 102,
   "id": "9e7e58fe",
   "metadata": {},
   "outputs": [
    {
     "data": {
      "image/png": "[encoded data removed]",
      "text/plain": [
       "<Figure size 640x480 with 1 Axes>"
      ]
     },
     "metadata": {},
     "output_type": "display_data"
    }
   ],
   "source": [
    "#visualizing the graph of accuracy\n",
    "\n",
    "plt.plot(model_history.history['accuracy'])\n",
    "plt.plot(model_history.history['val_accuracy'])\n",
    "plt.title('Model Accuracy')\n",
    "plt.xlabel('Epochs')\n",
    "plt.ylabel('Accuracy')\n",
    "plt.legend(['train','test'])\n",
    "plt.show()"
   ]
  },
  {
   "cell_type": "code",
   "execution_count": 103,
   "id": "faf2a9fd",
   "metadata": {},
   "outputs": [
    {
     "data": {
      "image/png": "[encoded data removed]",
      "text/plain": [
       "<Figure size 640x480 with 1 Axes>"
      ]
     },
     "metadata": {},
     "output_type": "display_data"
    }
   ],
   "source": [
    "#visualizing the graph of loss\n",
    "\n",
    "plt.plot(model_history.history['loss'])\n",
    "plt.plot(model_history.history['val_loss'])\n",
    "plt.title('Model Loss')\n",
    "plt.xlabel('Epochs')\n",
    "plt.ylabel('Loss')\n",
    "plt.legend(['train','test'])\n",
    "plt.show()"
   ]
  },
  {
   "cell_type": "markdown",
   "id": "c8b097dd",
   "metadata": {},
   "source": [
    "### Prediction & Evaluation :"
   ]
  },
  {
   "cell_type": "code",
   "execution_count": 104,
   "id": "ad2607eb",
   "metadata": {},
   "outputs": [
    {
     "name": "stdout",
     "output_type": "stream",
     "text": [
      "63/63 [==============================] - 0s 2ms/step\n"
     ]
    }
   ],
   "source": [
    "y_pred = classifier.predict(X_test)\n",
    "y_pred = (y_pred >=0.5)"
   ]
  },
  {
   "cell_type": "code",
   "execution_count": 105,
   "id": "32d7decf",
   "metadata": {},
   "outputs": [
    {
     "data": {
      "text/plain": [
       "array([[1513,   89],\n",
       "       [ 200,  198]], dtype=int64)"
      ]
     },
     "execution_count": 105,
     "metadata": {},
     "output_type": "execute_result"
    }
   ],
   "source": [
    "from sklearn.metrics import confusion_matrix,classification_report,accuracy_score\n",
    "confusion_matrix(y_test,y_pred)\n"
   ]
  },
  {
   "cell_type": "code",
   "execution_count": 106,
   "id": "040f5b4a",
   "metadata": {},
   "outputs": [
    {
     "data": {
      "text/plain": [
       "0.8555"
      ]
     },
     "execution_count": 106,
     "metadata": {},
     "output_type": "execute_result"
    }
   ],
   "source": [
    "accuracy_score(y_test,y_pred)"
   ]
  },
  {
   "cell_type": "markdown",
   "id": "cfa12e30",
   "metadata": {},
   "source": [
    "### Thank you"
   ]
  }
 ],
 "metadata": {
  "kernelspec": {
   "display_name": "Python 3 (ipykernel)",
   "language": "python",
   "name": "python3"
  },
  "language_info": {
   "codemirror_mode": {
    "name": "ipython",
    "version": 3
   },
   "file_extension": ".py",
   "mimetype": "text/x-python",
   "name": "python",
   "nbconvert_exporter": "python",
   "pygments_lexer": "ipython3",
   "version": "3.9.7"
  }
 },
 "nbformat": 4,
 "nbformat_minor": 5
}
